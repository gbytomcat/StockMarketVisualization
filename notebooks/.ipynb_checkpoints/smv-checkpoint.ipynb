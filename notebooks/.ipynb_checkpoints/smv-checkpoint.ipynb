{
 "metadata": {
  "name": "",
  "signature": "sha256:65d6809225c776c765aef9f5c58bb6c4c9977934ada11118b9267f58366e9c04"
 },
 "nbformat": 3,
 "nbformat_minor": 0,
 "worksheets": [
  {
   "cells": [
    {
     "cell_type": "code",
     "collapsed": false,
     "input": [
      "%matplotlib inline\n",
      "\n",
      "import numpy as np\n",
      "import pandas as pd\n",
      "import matplotlib.pyplot as plt\n",
      "\n",
      "pd.set_option('display.mpl_style', 'default')\n",
      "plt.rcParams['figure.figsize'] = (15, 5)"
     ],
     "language": "python",
     "metadata": {},
     "outputs": [],
     "prompt_number": 1
    },
    {
     "cell_type": "code",
     "collapsed": false,
     "input": [
      "symbols = [\"AAPL\", \"AMZN\", \"BAC\", \"C\", \"JPM\", \"CSCO\", \"DAL\", \"GE\", \"GOOG\", \"INTC\", \"MA\", \n",
      "\"MS\", \"MSFT\", \"PCLN\", \"PFE\", \"MRK\", \"SCHW\", \"BLK\", \"T\", \"WFC\", \"XOM\", \"CVX\", \n",
      "\"KO\", \"FB\", \"TWTR\"]\n",
      "\n"
     ],
     "language": "python",
     "metadata": {},
     "outputs": []
    }
   ],
   "metadata": {}
  }
 ]
}